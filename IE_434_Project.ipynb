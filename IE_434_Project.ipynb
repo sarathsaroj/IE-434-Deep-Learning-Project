{
  "cells": [
    {
      "cell_type": "markdown",
      "metadata": {
        "id": "rjRyfLpZGyyG"
      },
      "source": [
        "This is the file for the project."
      ]
    },
    {
      "cell_type": "code",
      "execution_count": 2,
      "metadata": {
        "id": "t7eTeXZQl_hU"
      },
      "outputs": [],
      "source": [
        "import pandas as pd\n",
        "import os\n",
        "import seaborn as sns\n",
        "import matplotlib.pyplot as mlt"
      ]
    },
    {
      "cell_type": "code",
      "execution_count": 4,
      "metadata": {
        "colab": {
          "base_uri": "https://localhost:8080/"
        },
        "id": "t4wnQtpDmmrn",
        "outputId": "2955eef5-8f42-421c-e132-38897c06b705"
      },
      "outputs": [],
      "source": [
        "pwd=os.getcwd()\n",
        "datadir = os.path.join(pwd,\"Data_JC_2022\")\n",
        "os.chdir(datadir)"
      ]
    },
    {
      "cell_type": "code",
      "execution_count": 5,
      "metadata": {
        "id": "W3ocydHCt5FC"
      },
      "outputs": [],
      "source": [
        "master=pd.DataFrame()\n",
        "for i, file_name in enumerate(os.listdir()):\n",
        "  if file_name.endswith(\".csv\"):\n",
        "    temp = pd.read_csv(file_name)\n",
        "    master = pd.concat([master, temp], axis=0, ignore_index=True)\n",
        "#master\n",
        "\n"
      ]
    },
    {
      "cell_type": "code",
      "execution_count": 6,
      "metadata": {
        "colab": {
          "base_uri": "https://localhost:8080/",
          "height": 597
        },
        "id": "exls0k40vjN3",
        "outputId": "4232d99b-d254-458f-c02e-e6ef6231a898"
      },
      "outputs": [],
      "source": [
        "master['ended_at']=pd.to_datetime(master['ended_at'])\n",
        "master['started_at']=pd.to_datetime(master['started_at'])"
      ]
    },
    {
      "cell_type": "code",
      "execution_count": 7,
      "metadata": {
        "colab": {
          "base_uri": "https://localhost:8080/"
        },
        "id": "yvh2eeIv8P2d",
        "outputId": "32448a2a-1e25-41b3-c5e9-57c9f639edbd"
      },
      "outputs": [],
      "source": [
        "os.chdir(pwd)\n",
        "master.to_pickle(\"Bikedata_2022.pkl\")"
      ]
    }
  ],
  "metadata": {
    "colab": {
      "provenance": []
    },
    "kernelspec": {
      "display_name": "Python 3.11.4 ('NN')",
      "language": "python",
      "name": "python3"
    },
    "language_info": {
      "codemirror_mode": {
        "name": "ipython",
        "version": 3
      },
      "file_extension": ".py",
      "mimetype": "text/x-python",
      "name": "python",
      "nbconvert_exporter": "python",
      "pygments_lexer": "ipython3",
      "version": "3.11.4"
    },
    "vscode": {
      "interpreter": {
        "hash": "5704ccb4069b466c646da1f3ff11884348d327367396c1e7331f1adba0ad30b0"
      }
    }
  },
  "nbformat": 4,
  "nbformat_minor": 0
}
